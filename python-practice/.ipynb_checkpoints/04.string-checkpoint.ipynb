{
 "cells": [
  {
   "cell_type": "code",
   "execution_count": 3,
   "id": "5dfc4c97-b1d7-48fd-998e-fbfe239dc506",
   "metadata": {},
   "outputs": [],
   "source": [
    "long_str = \"\"\"안녕하세요\n",
    "만나서 반갑습니다\n",
    "오늘 하루는 날씨가 추웠지만 , 따뜻한 하루이길 빌어보겠습니다.\n",
    "문단이 넘어가더라도 문자열에 넣을 수가 있습니다.\"\"\""
   ]
  },
  {
   "cell_type": "code",
   "execution_count": 13,
   "id": "59619bb5-c593-4dae-8c25-16007627d1ba",
   "metadata": {},
   "outputs": [
    {
     "name": "stdout",
     "output_type": "stream",
     "text": [
      "3\n"
     ]
    }
   ],
   "source": [
    "print(long_str.count(\"다\"))"
   ]
  },
  {
   "cell_type": "code",
   "execution_count": 11,
   "id": "d577ffe3-c6b3-4680-9c5a-883f07d5199f",
   "metadata": {},
   "outputs": [
    {
     "name": "stdout",
     "output_type": "stream",
     "text": [
      "79\n"
     ]
    }
   ],
   "source": [
    "print(len(long_str))"
   ]
  },
  {
   "cell_type": "code",
   "execution_count": 15,
   "id": "128ac254-a53d-4384-ab36-3469670dcfcd",
   "metadata": {},
   "outputs": [
    {
     "name": "stdout",
     "output_type": "stream",
     "text": [
      "4\n"
     ]
    }
   ],
   "source": [
    "print(long_str.find(\"요\"))"
   ]
  },
  {
   "cell_type": "code",
   "execution_count": 17,
   "id": "5372aac8-3720-4f8b-979a-60e64d738c70",
   "metadata": {},
   "outputs": [
    {
     "name": "stdout",
     "output_type": "stream",
     "text": [
      "안녕하세요\n",
      "만나서 반갑습니다\n",
      "오늘 하루는 날씨가 매우 추웠지만 , 따뜻한 하루이길 빌어보겠습니다.\n",
      "문단이 넘어가더라도 문자열에 넣을 수가 있습니다.\n"
     ]
    }
   ],
   "source": [
    "print(long_str.replace(\"추웠지만\",\"매우 추웠지만\"))"
   ]
  },
  {
   "cell_type": "code",
   "execution_count": 19,
   "id": "1adbed9a-4350-4c6b-a035-d379de7a7e40",
   "metadata": {},
   "outputs": [
    {
     "name": "stdout",
     "output_type": "stream",
     "text": [
      "요\n"
     ]
    }
   ],
   "source": [
    "print(long_str[4])"
   ]
  },
  {
   "cell_type": "code",
   "execution_count": 27,
   "id": "7f6c1128-1997-4741-b5ce-794b8dcc67ed",
   "metadata": {},
   "outputs": [
    {
     "name": "stdout",
     "output_type": "stream",
     "text": [
      "습\n"
     ]
    }
   ],
   "source": [
    "print(long_str[-4])"
   ]
  },
  {
   "cell_type": "code",
   "execution_count": 25,
   "id": "f6f36fb4-9fb6-4dea-9a50-55fc4cbdc09f",
   "metadata": {},
   "outputs": [
    {
     "name": "stdout",
     "output_type": "stream",
     "text": [
      "안녕하세\n"
     ]
    }
   ],
   "source": [
    "print(long_str[0:4])"
   ]
  },
  {
   "cell_type": "code",
   "execution_count": 29,
   "id": "c52b650a-e059-462b-9c14-c60a72897fae",
   "metadata": {},
   "outputs": [
    {
     "name": "stdout",
     "output_type": "stream",
     "text": [
      "요\n",
      "만나서 반갑습니다\n",
      "오늘 하루는 날씨가 추웠\n"
     ]
    }
   ],
   "source": [
    "print(long_str[4:-50])"
   ]
  },
  {
   "cell_type": "code",
   "execution_count": 31,
   "id": "4158cdbf-4c48-45aa-ae95-1d9f2ca225fc",
   "metadata": {},
   "outputs": [
    {
     "name": "stdout",
     "output_type": "stream",
     "text": [
      "     computer  \n"
     ]
    }
   ],
   "source": [
    "space_str = \"     computer  \"\n",
    "print(space_str)"
   ]
  },
  {
   "cell_type": "code",
   "execution_count": 33,
   "id": "c2bee503-d358-4b29-a6d6-2fa36f7ecccc",
   "metadata": {},
   "outputs": [
    {
     "name": "stdout",
     "output_type": "stream",
     "text": [
      "computer\n"
     ]
    }
   ],
   "source": [
    "print(space_str.strip())"
   ]
  },
  {
   "cell_type": "code",
   "execution_count": 35,
   "id": "08592791-aaf1-40a8-8774-a2e4e8d578fc",
   "metadata": {},
   "outputs": [
    {
     "name": "stdout",
     "output_type": "stream",
     "text": [
      "computer....\n"
     ]
    }
   ],
   "source": [
    "space_str = \",,,,,,computer....\"\n",
    "print(space_str.strip(\",\"))"
   ]
  },
  {
   "cell_type": "markdown",
   "id": "2d321105-c6a3-4dc1-9a13-469779d41345",
   "metadata": {},
   "source": [
    "- .format 메서드\n",
    "  - 문자열에 체이닝 형태로 메서드를 활용하는데 , 자바의 printf 같은 역할을 한다.\n",
    "  - {}안의 정수는 배열로 바라보고 인덱스를 담아 주는것과 같다.\n",
    "  - 인덱스를 활용해 원하는 순서대로 배치할 수 있다.\n",
    "- format 함수\n",
    "  - format(포맷이 필요한 변수 또는 숫자형 , \".정수f\")\n",
    "  - 정수만큼 .아랫자리를 반올림 하여 표현이 된다."
   ]
  },
  {
   "cell_type": "code",
   "execution_count": 1,
   "id": "4cc0e33c-605f-4c55-8456-ef386ae7b3d2",
   "metadata": {},
   "outputs": [
    {
     "name": "stdout",
     "output_type": "stream",
     "text": [
      "0.89\n",
      "0.90\n"
     ]
    }
   ],
   "source": [
    "interest = 0.891\n",
    "print(format(interest,\".2f\"))\n",
    "interest = 0.897\n",
    "print(format(interest,\".2f\"))"
   ]
  },
  {
   "cell_type": "code",
   "execution_count": null,
   "id": "0321d4ec-7574-4a2f-891c-5fd99b497d7b",
   "metadata": {},
   "outputs": [],
   "source": []
  }
 ],
 "metadata": {
  "kernelspec": {
   "display_name": "Python [conda env:base] *",
   "language": "python",
   "name": "conda-base-py"
  },
  "language_info": {
   "codemirror_mode": {
    "name": "ipython",
    "version": 3
   },
   "file_extension": ".py",
   "mimetype": "text/x-python",
   "name": "python",
   "nbconvert_exporter": "python",
   "pygments_lexer": "ipython3",
   "version": "3.12.7"
  }
 },
 "nbformat": 4,
 "nbformat_minor": 5
}
