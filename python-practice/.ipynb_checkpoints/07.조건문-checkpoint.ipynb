{
 "cells": [
  {
   "cell_type": "code",
   "execution_count": 18,
   "id": "7c827d88-ac14-4067-a74d-0d7a37d27169",
   "metadata": {},
   "outputs": [
    {
     "name": "stdin",
     "output_type": "stream",
     "text": [
      "나이는? 6\n"
     ]
    },
    {
     "name": "stdout",
     "output_type": "stream",
     "text": [
      "6\n"
     ]
    }
   ],
   "source": [
    "age = input(\"나이는?\")\n",
    "result = int(age)\n",
    "print(age)"
   ]
  },
  {
   "cell_type": "code",
   "execution_count": 26,
   "id": "73bc5d2e-2c97-4903-b6e7-3194b4bb7b73",
   "metadata": {},
   "outputs": [
    {
     "name": "stdout",
     "output_type": "stream",
     "text": [
      "성인이 아닙니다\n",
      "if 조건문 밖 입니다.\n"
     ]
    }
   ],
   "source": [
    "#여기서 조건문을 걸어보고 나이에 맞는 출력물을 만들어보자.\n",
    "if result>=19: \n",
    "    print(\"성인입니다\") #tab을 활용하여 줄내림. tab을 활용한 구역만큼 if 조건문 안에 들어가게됨.\n",
    "    print(\"result>=19구역\")\n",
    "    print(\"if조건문 내 입니다.\")\n",
    "\n",
    "else:\n",
    "    print(\"성인이 아닙니다\")\n",
    "    print(\"if 조건문 밖 입니다.\")"
   ]
  },
  {
   "cell_type": "code",
   "execution_count": 30,
   "id": "193568b0-c84f-4488-871b-2a5d89021188",
   "metadata": {},
   "outputs": [
    {
     "name": "stdin",
     "output_type": "stream",
     "text": [
      "나이는? 15\n"
     ]
    },
    {
     "name": "stdout",
     "output_type": "stream",
     "text": [
      "청소년 입니다\n",
      "result1 >=13 and result1 <19구역\n"
     ]
    }
   ],
   "source": [
    "age1 = input(\"나이는?\")\n",
    "result1 = int(age1)\n",
    "\n",
    "if result1>=19: \n",
    "    print(\"성인입니다\") \n",
    "    print(\"result>=19구역\")\n",
    "elif result1 >=13 and result1<19 :\n",
    "    print (\"청소년 입니다\")\n",
    "    print(\"result1 >=13 and result1 <19구역\")\n",
    "else:\n",
    "    print(\"아동 입니다\")\n",
    "    print(\"else 구역\")"
   ]
  },
  {
   "cell_type": "code",
   "execution_count": 34,
   "id": "d0f95c4a-9810-467e-b2cc-69c5805ebaea",
   "metadata": {},
   "outputs": [
    {
     "name": "stdin",
     "output_type": "stream",
     "text": [
      "현금은? 60000\n"
     ]
    },
    {
     "name": "stdout",
     "output_type": "stream",
     "text": [
      "밥집\n"
     ]
    }
   ],
   "source": [
    "# 중첩 조건문\n",
    "cash = int(input(\"현금은?\"))\n",
    "if cash>100000:\n",
    "    print(\"레스토랑\")\n",
    "else :\n",
    "    if cash >50000:\n",
    "        print(\"밥집\")\n",
    "    else :\n",
    "        print(\"집\")"
   ]
  },
  {
   "cell_type": "code",
   "execution_count": null,
   "id": "9414332d-32d4-4d03-8581-2c208b4e64da",
   "metadata": {},
   "outputs": [],
   "source": []
  }
 ],
 "metadata": {
  "kernelspec": {
   "display_name": "Python [conda env:base] *",
   "language": "python",
   "name": "conda-base-py"
  },
  "language_info": {
   "codemirror_mode": {
    "name": "ipython",
    "version": 3
   },
   "file_extension": ".py",
   "mimetype": "text/x-python",
   "name": "python",
   "nbconvert_exporter": "python",
   "pygments_lexer": "ipython3",
   "version": "3.12.7"
  }
 },
 "nbformat": 4,
 "nbformat_minor": 5
}
