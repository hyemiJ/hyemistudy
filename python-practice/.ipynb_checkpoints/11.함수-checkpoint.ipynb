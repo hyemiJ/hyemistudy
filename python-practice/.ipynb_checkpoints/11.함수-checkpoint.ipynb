{
 "cells": [
  {
   "cell_type": "code",
   "execution_count": 1,
   "id": "e486a323-58d5-4d9e-a1c1-793ea6c1bed3",
   "metadata": {},
   "outputs": [],
   "source": [
    "# print(\"hello\") 를 함수로 만들자\n",
    "\n",
    "def hello() :\n",
    "    print(\"hello\")"
   ]
  },
  {
   "cell_type": "code",
   "execution_count": 3,
   "id": "f0a904f8-cf3d-4602-8a08-24defdf6c83d",
   "metadata": {},
   "outputs": [
    {
     "name": "stdout",
     "output_type": "stream",
     "text": [
      "hello\n"
     ]
    }
   ],
   "source": [
    "#함수 실행\n",
    "hello()"
   ]
  },
  {
   "cell_type": "code",
   "execution_count": 9,
   "id": "d75270fc-5022-43ea-9a0e-5ff1d1249bbc",
   "metadata": {},
   "outputs": [],
   "source": [
    "#인자를 활용한 커스텀 print함수\n",
    "def c_print(text) :\n",
    "    print(text)"
   ]
  },
  {
   "cell_type": "code",
   "execution_count": 7,
   "id": "641657e2-17f5-45df-a5bd-15cba9d26a2c",
   "metadata": {},
   "outputs": [
    {
     "name": "stdout",
     "output_type": "stream",
     "text": [
      "hello\n"
     ]
    }
   ],
   "source": [
    "c_print(\"hello\")"
   ]
  },
  {
   "cell_type": "code",
   "execution_count": 11,
   "id": "e254e641-3f76-43c4-9854-f3b1f303577b",
   "metadata": {},
   "outputs": [
    {
     "name": "stdout",
     "output_type": "stream",
     "text": [
      "4\n"
     ]
    }
   ],
   "source": [
    "def add(a , b) :\n",
    "\t\tprint(a + b)\n",
    "\t\treturn a + b\n",
    "\t\tprint(a + b)\n",
    "#=> 아래의 print 는 실행되지 않는다.\n",
    "\n",
    "y = add(1,3)"
   ]
  },
  {
   "cell_type": "code",
   "execution_count": 13,
   "id": "55383cea-bf96-496e-9159-082ed7e2cc55",
   "metadata": {},
   "outputs": [
    {
     "name": "stdout",
     "output_type": "stream",
     "text": [
      "4\n"
     ]
    }
   ],
   "source": [
    "print(y)"
   ]
  },
  {
   "cell_type": "code",
   "execution_count": 17,
   "id": "be7f030f-ac90-41e3-bbb8-fb319a6ed412",
   "metadata": {},
   "outputs": [
    {
     "name": "stdout",
     "output_type": "stream",
     "text": [
      "실행문 내 7\n",
      "7\n",
      "1\n"
     ]
    }
   ],
   "source": [
    "# 지역변수와 전역변수\n",
    "\n",
    "a = 1\n",
    "def add1(a , b) :\n",
    "\t\tprint(\"실행문 내\",a + b)\n",
    "\t\treturn a + b\n",
    "\n",
    "print(add1(5,2))\n",
    "print(a)\n"
   ]
  },
  {
   "cell_type": "code",
   "execution_count": 19,
   "id": "25f16aeb-c8ae-4d0d-8ebf-f6f1955fb562",
   "metadata": {},
   "outputs": [],
   "source": [
    "def mul_return(a):\n",
    "\t\tb = a + 1\n",
    "\t\treturn a,b # 지역변수 b를 활용하고 있음."
   ]
  },
  {
   "cell_type": "code",
   "execution_count": 23,
   "id": "50f22bda-3aa8-4d4a-a49f-1d8b393fbed1",
   "metadata": {},
   "outputs": [
    {
     "data": {
      "text/plain": [
       "(1, 2)"
      ]
     },
     "execution_count": 23,
     "metadata": {},
     "output_type": "execute_result"
    }
   ],
   "source": [
    "mul_return(1)\n",
    "# 이 데이터는 리스트 형태가 아닌 튜플이라고 해서 다른 형태를 의미하는 값."
   ]
  },
  {
   "cell_type": "code",
   "execution_count": 27,
   "id": "8a1f33da-d7f3-4f6b-8f48-f34045420aee",
   "metadata": {},
   "outputs": [],
   "source": [
    "#자주 사용되는 return 사용법\n",
    "\n",
    "def id_check(id):\n",
    "    if id ==\"admin\":\n",
    "        print(\"invalid id : admin\")\n",
    "        return\n",
    "    print(\"valid id : \", id)\n",
    "#함수안에서 return을 만나게 되면 , 다음 코드는 실행하지 않는 것을 활용."
   ]
  },
  {
   "cell_type": "code",
   "execution_count": null,
   "id": "2dc77667-c61a-4974-868e-3828f67a826f",
   "metadata": {},
   "outputs": [],
   "source": []
  },
  {
   "cell_type": "code",
   "execution_count": null,
   "id": "abe6502b-1e65-4955-ab2d-25b571a6a44a",
   "metadata": {},
   "outputs": [],
   "source": []
  }
 ],
 "metadata": {
  "kernelspec": {
   "display_name": "Python [conda env:base] *",
   "language": "python",
   "name": "conda-base-py"
  },
  "language_info": {
   "codemirror_mode": {
    "name": "ipython",
    "version": 3
   },
   "file_extension": ".py",
   "mimetype": "text/x-python",
   "name": "python",
   "nbconvert_exporter": "python",
   "pygments_lexer": "ipython3",
   "version": "3.12.7"
  }
 },
 "nbformat": 4,
 "nbformat_minor": 5
}
