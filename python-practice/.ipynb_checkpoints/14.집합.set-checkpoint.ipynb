{
 "cells": [
  {
   "cell_type": "markdown",
   "id": "d85aea4a-95a2-499e-be3d-cc7936f3f889",
   "metadata": {},
   "source": [
    "# 데이터 구조 : 집합 또는 set\n",
    "\n",
    "* 선언 : 변수 = set() ,\n",
    "  - 두개 이상 : 변수 = { , , , }\n",
    "  - 하나 : 변수 = ( )\n",
    "* 읽기 :\n",
    "* 추가 :\n",
    "* 삭제 :\n",
    "* 수정 :\n"
   ]
  },
  {
   "cell_type": "code",
   "execution_count": 11,
   "id": "fc4f53f3-0ac8-4b5b-b47a-ab23d035fdc9",
   "metadata": {},
   "outputs": [],
   "source": [
    "# 선언\n",
    "d_list = list()\n",
    "d_tuple = tuple()\n",
    "d_dict = dict()\n",
    "d_set = set()"
   ]
  },
  {
   "cell_type": "code",
   "execution_count": 31,
   "id": "10f87fb6-243e-4481-bd32-60d17958dd3f",
   "metadata": {},
   "outputs": [
    {
     "name": "stdout",
     "output_type": "stream",
     "text": [
      "<class 'str'>\n"
     ]
    }
   ],
   "source": [
    "print(type(d_set))"
   ]
  },
  {
   "cell_type": "code",
   "execution_count": 17,
   "id": "80b392df-99ac-41ef-9600-f64b9fafe5e8",
   "metadata": {},
   "outputs": [],
   "source": [
    "d_set = {'apple','banana','melon'}"
   ]
  },
  {
   "cell_type": "code",
   "execution_count": 37,
   "id": "1f083b26-3505-4177-9ca6-4fc5114b49ba",
   "metadata": {},
   "outputs": [
    {
     "data": {
      "text/plain": [
       "'banana'"
      ]
     },
     "execution_count": 37,
     "metadata": {},
     "output_type": "execute_result"
    }
   ],
   "source": [
    "d_set"
   ]
  },
  {
   "cell_type": "code",
   "execution_count": 23,
   "id": "fd954659-55dc-4e06-8f60-e321ad35d92c",
   "metadata": {},
   "outputs": [],
   "source": [
    "d_set = ('banana')"
   ]
  },
  {
   "cell_type": "code",
   "execution_count": 29,
   "id": "a7b3d321-0078-42f1-a0f4-c85ea9a543c3",
   "metadata": {},
   "outputs": [
    {
     "name": "stdout",
     "output_type": "stream",
     "text": [
      "<class 'str'>\n"
     ]
    }
   ],
   "source": [
    "print(type(d_set))"
   ]
  },
  {
   "cell_type": "code",
   "execution_count": 41,
   "id": "86e7ae4e-a432-4a79-92c9-aa60bd5bca40",
   "metadata": {},
   "outputs": [
    {
     "name": "stdout",
     "output_type": "stream",
     "text": [
      "melon\n",
      "apple\n",
      "banana\n"
     ]
    }
   ],
   "source": [
    "d_set = {'apple','banana','melon'}\n",
    "for data in d_set :\n",
    "    print(data)"
   ]
  },
  {
   "cell_type": "code",
   "execution_count": 43,
   "id": "03182851-3e3d-48a7-8284-863d05c4c9f4",
   "metadata": {},
   "outputs": [
    {
     "data": {
      "text/plain": [
       "False"
      ]
     },
     "execution_count": 43,
     "metadata": {},
     "output_type": "execute_result"
    }
   ],
   "source": [
    "d_set = {'apple','banana','melon'}\n",
    "'lemon' in d_set\n",
    "# if 문 처럼 set 집합안에 있는지 없는지 boolean 으로 확인 할 수 있음"
   ]
  },
  {
   "cell_type": "code",
   "execution_count": 45,
   "id": "d74e1b2b-c155-41b8-a41e-6c290820136f",
   "metadata": {},
   "outputs": [
    {
     "data": {
      "text/plain": [
       "True"
      ]
     },
     "execution_count": 45,
     "metadata": {},
     "output_type": "execute_result"
    }
   ],
   "source": [
    "'banana' in d_set"
   ]
  },
  {
   "cell_type": "code",
   "execution_count": 49,
   "id": "8a7fe3a0-f4db-4a2e-9154-75d2808c5773",
   "metadata": {},
   "outputs": [
    {
     "name": "stdout",
     "output_type": "stream",
     "text": [
      "{'lg', 'samsung'}\n"
     ]
    }
   ],
   "source": [
    "# 집합연산\n",
    "data1 = {'apple','samsung','lg'} # 휴대폰 생산 업체\n",
    "data2 = {'samsung', 'lg', 'xaiomi'} # tv 생산 업체\n",
    "\n",
    "print(data1 & data2) #교집합"
   ]
  },
  {
   "cell_type": "code",
   "execution_count": 51,
   "id": "46f61340-892f-4b20-9a77-c216259bc21d",
   "metadata": {},
   "outputs": [
    {
     "name": "stdout",
     "output_type": "stream",
     "text": [
      "{'apple', 'xaiomi', 'lg', 'samsung'}\n"
     ]
    }
   ],
   "source": [
    "print(data1 | data2) # 합집합"
   ]
  },
  {
   "cell_type": "code",
   "execution_count": 53,
   "id": "dce7b1e2-924d-4560-92df-076c82f00155",
   "metadata": {},
   "outputs": [
    {
     "name": "stdout",
     "output_type": "stream",
     "text": [
      "{'apple'}\n"
     ]
    }
   ],
   "source": [
    "print(data1 - data2) # 차집합 : 1의 데이터에서 2의 데이터를 제외한."
   ]
  },
  {
   "cell_type": "code",
   "execution_count": 55,
   "id": "400fcd99-2216-4614-bc16-3509bc1af70c",
   "metadata": {},
   "outputs": [
    {
     "name": "stdout",
     "output_type": "stream",
     "text": [
      "{'apple', 'xaiomi'}\n"
     ]
    }
   ],
   "source": [
    "print(data1 ^ data2) # 합집합 - 교집합"
   ]
  },
  {
   "cell_type": "code",
   "execution_count": 57,
   "id": "ec11f06d-8f6b-405a-a5c1-e3ae7ba14cd3",
   "metadata": {},
   "outputs": [
    {
     "name": "stdout",
     "output_type": "stream",
     "text": [
      "{'melon', 'apple', 'banana'}\n"
     ]
    }
   ],
   "source": [
    "# 활용 예시\n",
    "d_set = {'apple','banana','melon','apple','banana','melon','apple','banana','melon'}\n",
    "print(d_set)"
   ]
  },
  {
   "cell_type": "code",
   "execution_count": null,
   "id": "2e4c13ca-96fe-43bc-ab50-2142756fd88d",
   "metadata": {},
   "outputs": [],
   "source": []
  }
 ],
 "metadata": {
  "kernelspec": {
   "display_name": "Python [conda env:base] *",
   "language": "python",
   "name": "conda-base-py"
  },
  "language_info": {
   "codemirror_mode": {
    "name": "ipython",
    "version": 3
   },
   "file_extension": ".py",
   "mimetype": "text/x-python",
   "name": "python",
   "nbconvert_exporter": "python",
   "pygments_lexer": "ipython3",
   "version": "3.12.7"
  }
 },
 "nbformat": 4,
 "nbformat_minor": 5
}
