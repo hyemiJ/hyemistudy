{
 "cells": [
  {
   "cell_type": "code",
   "execution_count": 11,
   "id": "019131f4-4971-40fa-b095-cc5bb48beb62",
   "metadata": {},
   "outputs": [],
   "source": [
    "import requests # 라이브러리 import\n",
    "from bs4 import BeautifulSoup # bs4라이브러리에서 BeautifulSoup라는 클래스를 가져온다."
   ]
  },
  {
   "cell_type": "code",
   "execution_count": 13,
   "id": "e182c4fb-2921-4791-9f3f-a90e5b00d5b7",
   "metadata": {},
   "outputs": [],
   "source": [
    "res = requests.get('http://v.media.daum.net/v/20170615203441266') # 웹페이지 가져오기"
   ]
  },
  {
   "cell_type": "code",
   "execution_count": 15,
   "id": "7c1debd1-fead-41aa-ae57-49057662f882",
   "metadata": {},
   "outputs": [],
   "source": [
    "soup = BeautifulSoup(res.content,'html.parser') # 웹페이지 파싱하기"
   ]
  },
  {
   "cell_type": "code",
   "execution_count": 17,
   "id": "afa6f651-7c65-40a5-a20b-e46583675935",
   "metadata": {},
   "outputs": [],
   "source": [
    "mydata = soup.find('title') #필요한 데이터 추출하기"
   ]
  },
  {
   "cell_type": "code",
   "execution_count": 19,
   "id": "b5bd1333-76ee-4374-b257-0e9c5c24fec5",
   "metadata": {},
   "outputs": [
    {
     "name": "stdout",
     "output_type": "stream",
     "text": [
      "잔금대출에도 DTI 규제 적용 검토\n"
     ]
    }
   ],
   "source": [
    "print(mydata.get_text()) # 추출한 데이터 사용기기"
   ]
  },
  {
   "cell_type": "code",
   "execution_count": 31,
   "id": "090d080e-c86a-4043-a537-dcb618d8293f",
   "metadata": {},
   "outputs": [
    {
     "data": {
      "text/plain": [
       "<title>잔금대출에도 DTI 규제 적용 검토</title>"
      ]
     },
     "execution_count": 31,
     "metadata": {},
     "output_type": "execute_result"
    }
   ],
   "source": [
    "mydata"
   ]
  },
  {
   "cell_type": "markdown",
   "id": "effc782e-862c-40c8-8b6f-a618e76a8c5d",
   "metadata": {},
   "source": [
    "- find() 두개의 문장중 원하는 선택할 수 있는 방법.\n",
    "1. data = soup.find('p', class_='cssstyle')\n",
    "2. data = soup.find('p', 'cssstyle')\n",
    "3. data = soup.find('p', attrs = {'align': 'center'})\n",
    "4. data = soup.find(id='body')"
   ]
  },
  {
   "cell_type": "code",
   "execution_count": 38,
   "id": "98033cf4-8ab9-46bb-8bed-0cc27e9c8b6d",
   "metadata": {},
   "outputs": [
    {
     "name": "stdout",
     "output_type": "stream",
     "text": [
      "<h1 id=\"title\">[1]크롤링이란?</h1>\n",
      "[1]크롤링이란?\n",
      "[1]크롤링이란?\n"
     ]
    }
   ],
   "source": [
    "from bs4 import BeautifulSoup\n",
    "html = \"<html> \\\n",
    "<body> \\\n",
    "<h1 id='title'>[1]크롤링이란?</h1> \\\n",
    "<p class='cssstyle'>웹페이지에서 필요한 데이터를 추출하는 것</p> \\\n",
    "<p id='body' align='center'>파이썬을 중심으로 다양한 웹크롤링 기술 발달</p> \\\n",
    "</body> \\\n",
    "</html>\" # \\를 통해 각 줄바꿈을 컴퓨터에게 알려줌. \n",
    "soup = BeautifulSoup(html,\"html.parser\")\n",
    "# 태그로 검색 방법\n",
    "data = soup.find('h1')\n",
    "print(data)\n",
    "print(data.string)\n",
    "print(data.get_text())"
   ]
  },
  {
   "cell_type": "markdown",
   "id": "88c7cece-e8bc-4840-b821-fa57ad043c9a",
   "metadata": {},
   "source": [
    "- find_all() 사용"
   ]
  },
  {
   "cell_type": "code",
   "execution_count": 46,
   "id": "dcf64bc4-92e2-49f0-aa09-3a3a1566add9",
   "metadata": {},
   "outputs": [
    {
     "name": "stdout",
     "output_type": "stream",
     "text": [
      "웹페이지에서 필요한 데이터를 추출하는 것\n",
      "파이썬을 중심으로 다양한 웹크롤링 기술 발달\n"
     ]
    }
   ],
   "source": [
    "data = soup.find_all('p')\n",
    "for p in data :\n",
    "    print(p.string)"
   ]
  },
  {
   "cell_type": "code",
   "execution_count": 48,
   "id": "e167f030-c1ce-4231-9fd5-66c25fc3dabb",
   "metadata": {},
   "outputs": [
    {
     "name": "stdout",
     "output_type": "stream",
     "text": [
      "잔금대출에도 DTI 규제 적용 검토\n"
     ]
    }
   ],
   "source": [
    "import requests\n",
    "from bs4 import BeautifulSoup\n",
    "# 1) reqeusts 라이브러리를 활용한 HTML 페이지 요청\n",
    "# 1-1) res 객체에 HTML 데이터가 저장되고, res.content로 데이터를 추출할 수 있음\n",
    "res = requests.get('http://v.media.daum.net/v/20170615203441266')\n",
    "# print(res.content)\n",
    "# 2) HTML 페이지 파싱 BeautifulSoup(HTML데이터, 파싱방법)\n",
    "# 2-1) BeautifulSoup 파싱방법\n",
    "soup = BeautifulSoup(res.content,'html.parser')\n",
    "# 3) 필요한 데이터 검색\n",
    "title = soup.find('h3','tit_view')\n",
    "# 4) 필요한 데이터 추출\n",
    "print(title.get_text())"
   ]
  },
  {
   "cell_type": "code",
   "execution_count": 56,
   "id": "239d1088-8ae6-45ce-9971-315bf6d3049d",
   "metadata": {},
   "outputs": [
    {
     "name": "stdout",
     "output_type": "stream",
     "text": [
      "\"6살 꼬마 목소리 안 잊혀\" \"얼른 수습만 했으면\"…황망한 유족들\n",
      "윤현성 기자(hsyhs@newsis.com)\n",
      "우지은 기자(now@newsis.com)\n"
     ]
    }
   ],
   "source": [
    "import requests\n",
    "from bs4 import BeautifulSoup\n",
    "\n",
    "request = requests.get('https://n.news.naver.com/article/003/0012987875?cds=news_media_pc&type=editn')\n",
    "soup = BeautifulSoup(request.content, 'html.parser')\n",
    "title = soup.find('title').string\n",
    "byline = soup.find_all('span','byline_s')\n",
    "\n",
    "print(title) \n",
    "\n",
    "for b in byline :\n",
    "    print(b.string)"
   ]
  },
  {
   "cell_type": "code",
   "execution_count": null,
   "id": "71d6a545-35f9-4256-a04e-f5394ed35261",
   "metadata": {},
   "outputs": [],
   "source": []
  }
 ],
 "metadata": {
  "kernelspec": {
   "display_name": "Python [conda env:base] *",
   "language": "python",
   "name": "conda-base-py"
  },
  "language_info": {
   "codemirror_mode": {
    "name": "ipython",
    "version": 3
   },
   "file_extension": ".py",
   "mimetype": "text/x-python",
   "name": "python",
   "nbconvert_exporter": "python",
   "pygments_lexer": "ipython3",
   "version": "3.12.7"
  }
 },
 "nbformat": 4,
 "nbformat_minor": 5
}
