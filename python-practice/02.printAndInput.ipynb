{
 "cells": [
  {
   "cell_type": "markdown",
   "id": "90e7bd23-82f8-4c21-8ae5-ae4d6c930dae",
   "metadata": {},
   "source": [
    "- **문자열 사용**\n",
    "   - print(\"asdfd\") \n",
    "   - print('asfdfs') \n",
    "   - print(12424)"
   ]
  },
  {
   "cell_type": "code",
   "execution_count": 1,
   "id": "7959a754-df47-48e5-a098-186ef6e06048",
   "metadata": {},
   "outputs": [
    {
     "name": "stdout",
     "output_type": "stream",
     "text": [
      "hello world !\n"
     ]
    }
   ],
   "source": [
    "print(\"hello world !\")"
   ]
  },
  {
   "cell_type": "code",
   "execution_count": 6,
   "id": "27e968ea-e6c2-4a20-9330-5493e198081c",
   "metadata": {},
   "outputs": [
    {
     "name": "stdout",
     "output_type": "stream",
     "text": [
      "hello world !\n"
     ]
    }
   ],
   "source": [
    "print ('hello world !')"
   ]
  },
  {
   "cell_type": "code",
   "execution_count": 12,
   "id": "db9bf68f-5294-4320-84d1-6dd7be955837",
   "metadata": {},
   "outputs": [
    {
     "name": "stdout",
     "output_type": "stream",
     "text": [
      "3\n"
     ]
    }
   ],
   "source": [
    "print (1 * 3)"
   ]
  },
  {
   "cell_type": "code",
   "execution_count": 16,
   "id": "aebfb483-d92d-4edf-8090-30e9ef6c51e9",
   "metadata": {},
   "outputs": [
    {
     "name": "stdout",
     "output_type": "stream",
     "text": [
      "8\n"
     ]
    }
   ],
   "source": [
    "print ( (1 + 3)*2)"
   ]
  },
  {
   "cell_type": "code",
   "execution_count": 26,
   "id": "7fc46b2b-6c08-4f40-b0da-618642ff85da",
   "metadata": {},
   "outputs": [
    {
     "name": "stdout",
     "output_type": "stream",
     "text": [
      "9\n",
      "27\n",
      "81\n"
     ]
    }
   ],
   "source": [
    "# 특이한 연산 부호\n",
    "print ( 3 ** 2 )\n",
    "print ( 3 ** 3 )\n",
    "print ( 3 ** 4 )\n",
    "# 지수 승을 의미한다."
   ]
  },
  {
   "cell_type": "code",
   "execution_count": 30,
   "id": "1a7a558b-a7ca-472c-8bd7-cb7c98e4c362",
   "metadata": {},
   "outputs": [
    {
     "name": "stdout",
     "output_type": "stream",
     "text": [
      "50\n",
      "33\n",
      "25\n"
     ]
    }
   ],
   "source": [
    "# 특이한 연산 부호\n",
    "print ( 100 // 2 )\n",
    "print ( 100 // 3 )\n",
    "print ( 100 // 4 )\n",
    "# 몫을 의미한다."
   ]
  },
  {
   "cell_type": "markdown",
   "id": "2e606612-1cc3-43e2-8cf4-85979f29e123",
   "metadata": {},
   "source": [
    "- **변수의 사용**\n",
    "  - 타입\n",
    "    - 문자열(string)\n",
    "    - 숫자-정수형(intger)\n",
    "    - 숫자-부동소숫점(float)\n",
    "    - boolean 형"
   ]
  },
  {
   "cell_type": "code",
   "execution_count": 49,
   "id": "170e05be-0fbf-472a-82e0-22f7ab11072f",
   "metadata": {},
   "outputs": [],
   "source": [
    "number = 1\n",
    "name = \"laon\"\n",
    "age = 6\n",
    "number1 = 10\n",
    "number2 = 5"
   ]
  },
  {
   "cell_type": "code",
   "execution_count": 51,
   "id": "fd421d7e-bf44-4068-a35b-7481419300f5",
   "metadata": {},
   "outputs": [
    {
     "name": "stdout",
     "output_type": "stream",
     "text": [
      "1\n",
      "laon\n",
      "laon 6\n"
     ]
    }
   ],
   "source": [
    "print (number)\n",
    "print (name)\n",
    "print (name , age)"
   ]
  },
  {
   "cell_type": "code",
   "execution_count": 61,
   "id": "b2966e97-5bf5-446e-9192-dd0f89cc6abd",
   "metadata": {},
   "outputs": [
    {
     "name": "stdout",
     "output_type": "stream",
     "text": [
      "15\n",
      "50\n",
      "100000\n",
      "2\n",
      "0\n"
     ]
    }
   ],
   "source": [
    "# 변수를 통한 계산\n",
    "print(number1 + number2)\n",
    "print (number1 * number2)\n",
    "print (number1 ** number2)\n",
    "print (number1 // number2)\n",
    "print (number1 % number2)"
   ]
  },
  {
   "cell_type": "code",
   "execution_count": 63,
   "id": "ae96d6e1-1b5e-441a-9581-8dad97450019",
   "metadata": {},
   "outputs": [
    {
     "name": "stdout",
     "output_type": "stream",
     "text": [
      "True\n",
      "False\n",
      "True\n"
     ]
    }
   ],
   "source": [
    "#boolean 출력\n",
    "print (1 < 7)\n",
    "print ( 1 == number2)\n",
    "print (number1 != number2)"
   ]
  },
  {
   "cell_type": "markdown",
   "id": "20f52f05-ce93-48cd-896d-c641054ebb59",
   "metadata": {},
   "source": [
    "### 문제\n",
    "반지름(r=10)을 선언한 뒤 이를 이용하여 원의 지름 , 둘레(r * 2 * pi) , 넓이 (r의 2승 * pi)를 각각 출력하는 파이썬 파일을 만들자\n",
    "- r = 10\n",
    "- pi = 3.1415"
   ]
  },
  {
   "cell_type": "code",
   "execution_count": 69,
   "id": "da143590-8bb5-4c31-9a9e-f16ac8a25e8d",
   "metadata": {},
   "outputs": [
    {
     "name": "stdout",
     "output_type": "stream",
     "text": [
      "지름 :  20\n",
      "둘레 :  62.830000000000005\n",
      "넓이 :  314.15000000000003\n"
     ]
    }
   ],
   "source": [
    "r = 10\n",
    "pi = 3.1415\n",
    "\n",
    "diameter = r * 2\n",
    "circumference = diameter * pi\n",
    "area = (r ** 2) * pi\n",
    "\n",
    "print(\"지름 : \",diameter)\n",
    "print(\"둘레 : \",circumference)\n",
    "print(\"넓이 : \",area)"
   ]
  },
  {
   "cell_type": "code",
   "execution_count": 105,
   "id": "22ecfdeb-b33c-4c08-9a24-e5bcaea08872",
   "metadata": {},
   "outputs": [
    {
     "name": "stdin",
     "output_type": "stream",
     "text": [
      " 신의종\n"
     ]
    }
   ],
   "source": [
    "name = input()"
   ]
  },
  {
   "cell_type": "code",
   "execution_count": 107,
   "id": "1fd7c4c2-0030-4add-b221-e0bfb673d29f",
   "metadata": {},
   "outputs": [
    {
     "name": "stdin",
     "output_type": "stream",
     "text": [
      "What is your name ? ㅇㄹㄴㄹ\n"
     ]
    }
   ],
   "source": [
    "name = input(\"What is your name ?\")"
   ]
  },
  {
   "cell_type": "code",
   "execution_count": 83,
   "id": "79e424c5-5b41-46d4-a4ee-912773c90e04",
   "metadata": {},
   "outputs": [
    {
     "data": {
      "text/plain": [
       "'apple'"
      ]
     },
     "execution_count": 83,
     "metadata": {},
     "output_type": "execute_result"
    }
   ],
   "source": [
    "#notebook의 기능중 하나인 변수를 출력시키는 기능.\n",
    "name1 = \"banana\"\n",
    "name2 = \"apple\"\n",
    "name1\n",
    "name2"
   ]
  },
  {
   "cell_type": "code",
   "execution_count": 109,
   "id": "0c4d84db-f712-41c9-834f-5835d19ab4b1",
   "metadata": {},
   "outputs": [
    {
     "name": "stdin",
     "output_type": "stream",
     "text": [
      "What is your name ? 신의종\n"
     ]
    },
    {
     "name": "stdout",
     "output_type": "stream",
     "text": [
      "Hi !  신의종\n"
     ]
    }
   ],
   "source": [
    "#입출력 동시 적용\n",
    "name = input(\"What is your name ?\")\n",
    "print (\"Hi ! \",name );"
   ]
  },
  {
   "cell_type": "code",
   "execution_count": 87,
   "id": "71167851-434d-49da-9d30-d417b03305f7",
   "metadata": {},
   "outputs": [
    {
     "name": "stdin",
     "output_type": "stream",
     "text": [
      " 11\n"
     ]
    }
   ],
   "source": [
    "#입력을 통해 변수에 대입하면 , 해당 값은 문자로 받아들임\n",
    "age = input()"
   ]
  },
  {
   "cell_type": "code",
   "execution_count": 89,
   "id": "dd928a96-01c3-477f-b1d2-99bd0e6612e6",
   "metadata": {},
   "outputs": [
    {
     "data": {
      "text/plain": [
       "'11'"
      ]
     },
     "execution_count": 89,
     "metadata": {},
     "output_type": "execute_result"
    }
   ],
   "source": [
    "age"
   ]
  },
  {
   "cell_type": "code",
   "execution_count": 99,
   "id": "80708e96-0fe2-49b0-89c7-91e597667391",
   "metadata": {},
   "outputs": [
    {
     "name": "stdin",
     "output_type": "stream",
     "text": [
      " 1\n",
      " 2\n"
     ]
    },
    {
     "name": "stdout",
     "output_type": "stream",
     "text": [
      "2\n"
     ]
    }
   ],
   "source": [
    "# 타입 캐스팅이 필요한 경우\n",
    "num1 = input()\n",
    "num2 = input()\n",
    "print (int(num1) * int(num2))\n",
    "# TypeError: can't multiply sequence by non-int of type 'str'"
   ]
  },
  {
   "cell_type": "code",
   "execution_count": 93,
   "id": "1ee81d6d-2c56-4e2d-9c01-7d2c60085a81",
   "metadata": {},
   "outputs": [
    {
     "data": {
      "text/plain": [
       "3.0"
      ]
     },
     "execution_count": 93,
     "metadata": {},
     "output_type": "execute_result"
    }
   ],
   "source": [
    "float(3)"
   ]
  },
  {
   "cell_type": "code",
   "execution_count": 95,
   "id": "640de8f9-0741-48cb-94fb-0eee6bdcbdb3",
   "metadata": {},
   "outputs": [
    {
     "data": {
      "text/plain": [
       "3"
      ]
     },
     "execution_count": 95,
     "metadata": {},
     "output_type": "execute_result"
    }
   ],
   "source": [
    "int(3.6)\n",
    "# 정수로 변환하기 위에 뒤에 숫자를 버림"
   ]
  },
  {
   "cell_type": "code",
   "execution_count": 97,
   "id": "97c8740e-c937-43f7-88a7-44579ef65c79",
   "metadata": {},
   "outputs": [
    {
     "data": {
      "text/plain": [
       "'1'"
      ]
     },
     "execution_count": 97,
     "metadata": {},
     "output_type": "execute_result"
    }
   ],
   "source": [
    "str(1)"
   ]
  },
  {
   "cell_type": "code",
   "execution_count": 101,
   "id": "b94e56e9-f795-4f59-82fd-d0e19d648f69",
   "metadata": {},
   "outputs": [
    {
     "name": "stdout",
     "output_type": "stream",
     "text": [
      "<class 'str'>\n"
     ]
    }
   ],
   "source": [
    "print(type(num1))"
   ]
  },
  {
   "cell_type": "code",
   "execution_count": null,
   "id": "735dd3ed-8a28-4ae2-8f42-9d9b16468297",
   "metadata": {},
   "outputs": [],
   "source": []
  }
 ],
 "metadata": {
  "kernelspec": {
   "display_name": "Python [conda env:base] *",
   "language": "python",
   "name": "conda-base-py"
  },
  "language_info": {
   "codemirror_mode": {
    "name": "ipython",
    "version": 3
   },
   "file_extension": ".py",
   "mimetype": "text/x-python",
   "name": "python",
   "nbconvert_exporter": "python",
   "pygments_lexer": "ipython3",
   "version": "3.12.7"
  }
 },
 "nbformat": 4,
 "nbformat_minor": 5
}
