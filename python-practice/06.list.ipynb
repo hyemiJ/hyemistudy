{
 "cells": [
  {
   "cell_type": "markdown",
   "id": "77b6fa44-51eb-47fd-9f88-37626029eb47",
   "metadata": {},
   "source": [
    "- List\n",
    "  - 여러가지 관계가 있는 데이터를 하나의 변수로 다루는 방법\n",
    "  - [  ] 안에 데이터를 넣어주면 된다."
   ]
  },
  {
   "cell_type": "code",
   "execution_count": 48,
   "id": "c4f78d65-33bc-447e-9b9b-2592146027db",
   "metadata": {},
   "outputs": [
    {
     "name": "stdout",
     "output_type": "stream",
     "text": [
      "['서울시', '용인시', '제주시']\n"
     ]
    }
   ],
   "source": [
    "location = ['서울시','용인시','제주시']\n",
    "print(location)"
   ]
  },
  {
   "cell_type": "code",
   "execution_count": 50,
   "id": "2b5ad439-4857-4bb3-9033-3f9d40674030",
   "metadata": {},
   "outputs": [
    {
     "name": "stdout",
     "output_type": "stream",
     "text": [
      "서울시\n"
     ]
    }
   ],
   "source": [
    "print(location[0])"
   ]
  },
  {
   "cell_type": "code",
   "execution_count": 52,
   "id": "e18e7e1c-a2ce-4c66-91f5-decc7299950e",
   "metadata": {},
   "outputs": [
    {
     "name": "stdout",
     "output_type": "stream",
     "text": [
      "<class 'str'>\n"
     ]
    }
   ],
   "source": [
    "print(type(location[0]))"
   ]
  },
  {
   "cell_type": "code",
   "execution_count": 54,
   "id": "011f1b91-9063-47c0-9b04-c41fcb226a12",
   "metadata": {},
   "outputs": [
    {
     "name": "stdout",
     "output_type": "stream",
     "text": [
      "['서울시', '용인시', '제주시', '부산시', '대전시']\n",
      "['서울시', '성남시', '용인시', '제주시', '부산시', '대전시']\n"
     ]
    }
   ],
   "source": [
    "# 리스트 추가 .append 메서드\n",
    "\n",
    "location.append(\"부산시\")\n",
    "location.append(\"대전시\")\n",
    "print(location)\n",
    "#뒤에 차례대로 붙는 것을 알 수 있음\n",
    "\n",
    "#리스트 추가 insert 메서드\n",
    "\n",
    "#원하는 인덱스 자리에 추가가 가능\n",
    "location.insert(1, '성남시')\n",
    "print(location)"
   ]
  },
  {
   "cell_type": "code",
   "execution_count": 56,
   "id": "1c927ad6-e396-4f12-87e8-f397b217373e",
   "metadata": {},
   "outputs": [
    {
     "name": "stdout",
     "output_type": "stream",
     "text": [
      "['서울시', '성남시', '용인시']\n"
     ]
    }
   ],
   "source": [
    "print(location[0:3])"
   ]
  },
  {
   "cell_type": "code",
   "execution_count": 58,
   "id": "e7c6e8c1-91e4-494f-a7cf-a04cb2bc0eaf",
   "metadata": {},
   "outputs": [
    {
     "name": "stdout",
     "output_type": "stream",
     "text": [
      "['서울시', '성남시', '제주시', '부산시', '대전시']\n"
     ]
    }
   ],
   "source": [
    "# 리스트 삭제 .remove 메서드\n",
    "location.remove('용인시')\n",
    "print(location)"
   ]
  },
  {
   "cell_type": "code",
   "execution_count": 60,
   "id": "0a02da59-90b7-4e12-b0c2-8fd746464640",
   "metadata": {},
   "outputs": [
    {
     "name": "stdout",
     "output_type": "stream",
     "text": [
      "['서울시', '성남시', '부산시', '대전시']\n"
     ]
    }
   ],
   "source": [
    "# 리스트 삭제 del 명령어\n",
    "del location[2]\n",
    "print(location)"
   ]
  },
  {
   "cell_type": "code",
   "execution_count": 64,
   "id": "e5cd1f19-e0c2-453e-962d-b9f31063c9b8",
   "metadata": {},
   "outputs": [
    {
     "name": "stdout",
     "output_type": "stream",
     "text": [
      "['서울시', 1, True, 3.5]\n"
     ]
    }
   ],
   "source": [
    "#리스트 데이터 타입은 자유롭게 들어갈 수 있다\n",
    "\n",
    "new_location = ['서울시',1,True,3.5]\n",
    "print(new_location)"
   ]
  },
  {
   "cell_type": "code",
   "execution_count": 66,
   "id": "a784bfd4-adf2-46bb-a4ab-072660d6dca9",
   "metadata": {},
   "outputs": [
    {
     "name": "stdout",
     "output_type": "stream",
     "text": [
      "['java', 'c', 'c++', 'golang']\n"
     ]
    }
   ],
   "source": [
    "#small Q\n",
    "# 처음 리스트 데이터 변수 데이터\n",
    "# lang = [\"java\",\"c\",\"c++\"]\n",
    "# 리스트 함수를 활용하여 이렇게 만들어 보기\n",
    "# lang = [\"java\",\"c\",\"c++\",\"golang\"]\n",
    "\n",
    "lang = [\"java\",\"c\",\"c++\"]\n",
    "lang.append(\"golang\")\n",
    "print(lang)"
   ]
  },
  {
   "cell_type": "markdown",
   "id": "f65ae579-81c4-4a10-8dbc-e06442a44ead",
   "metadata": {},
   "source": [
    "- 리스트의 정렬\n",
    "  - .sort() : 순행 정렬\n",
    "  - .reverse() : 역순 정렬"
   ]
  },
  {
   "cell_type": "code",
   "execution_count": 74,
   "id": "c20ec71e-7aac-42a9-8f23-668b5ec33ae1",
   "metadata": {},
   "outputs": [
    {
     "name": "stdout",
     "output_type": "stream",
     "text": [
      "[1, 2, 3, 5]\n"
     ]
    }
   ],
   "source": [
    "num1 = [1,5,2,3]\n",
    "num1.sort()\n",
    "print(num1)\n",
    "# 리스트 원본이 변경"
   ]
  },
  {
   "cell_type": "code",
   "execution_count": 78,
   "id": "fa761e74-5068-4511-b20a-9b65ff0833ad",
   "metadata": {},
   "outputs": [
    {
     "name": "stdout",
     "output_type": "stream",
     "text": [
      "[1, 2, 3, 5]\n"
     ]
    }
   ],
   "source": [
    "num1.reverse()\n",
    "print(num1)\n",
    "# 리스트 원본이 변경"
   ]
  },
  {
   "cell_type": "code",
   "execution_count": 86,
   "id": "704d06cc-ab7e-443a-a32f-577b07269ac6",
   "metadata": {},
   "outputs": [
    {
     "name": "stdout",
     "output_type": "stream",
     "text": [
      "python is easy\n",
      "['python', 'is', 'easy']\n"
     ]
    }
   ],
   "source": [
    "# 문자열의 .split() 메서드\n",
    "\n",
    "str = \"python is easy\"\n",
    "str.split()\n",
    "print(str)\n",
    "print(str.split())\n",
    "#문자열의 원본이 바뀌는 것은 아니지만 , 배열화 할 수 있는 방법이다."
   ]
  },
  {
   "cell_type": "code",
   "execution_count": null,
   "id": "b6d813d4-b7ac-43f4-9344-fcff96b6abc2",
   "metadata": {},
   "outputs": [],
   "source": []
  }
 ],
 "metadata": {
  "kernelspec": {
   "display_name": "Python [conda env:base] *",
   "language": "python",
   "name": "conda-base-py"
  },
  "language_info": {
   "codemirror_mode": {
    "name": "ipython",
    "version": 3
   },
   "file_extension": ".py",
   "mimetype": "text/x-python",
   "name": "python",
   "nbconvert_exporter": "python",
   "pygments_lexer": "ipython3",
   "version": "3.12.7"
  }
 },
 "nbformat": 4,
 "nbformat_minor": 5
}
