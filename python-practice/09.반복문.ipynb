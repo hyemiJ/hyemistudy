{
 "cells": [
  {
   "cell_type": "markdown",
   "id": "b717c5c7-ed29-4a32-b8b7-0eb372f89c79",
   "metadata": {},
   "source": [
    "### for 반복문 형태 \n",
    "```\n",
    "for 변수 in (리스트 or 문자열):\n",
    "\t\t실행문\n",
    "for 변수 in range(반복횟수:0부터시작):\n",
    "\t\t실행문\n",
    "for 변수 in range(시작수,끝수):\n",
    "\t\t실행문\n",
    "```\n",
    "꼭 변수를 활용하여 실행문을 할 필요는 없기도 하다"
   ]
  },
  {
   "cell_type": "code",
   "execution_count": 8,
   "id": "007d5a0f-8546-4f60-8908-b575c1859312",
   "metadata": {},
   "outputs": [
    {
     "name": "stdout",
     "output_type": "stream",
     "text": [
      "python\n",
      "java\n",
      "react\n"
     ]
    }
   ],
   "source": [
    "for i in [\"python\",\"java\",\"react\"]:\n",
    "\t\tprint(i)"
   ]
  },
  {
   "cell_type": "code",
   "execution_count": 10,
   "id": "c14a9f40-7e74-4cce-9faf-4e650e861707",
   "metadata": {},
   "outputs": [
    {
     "name": "stdout",
     "output_type": "stream",
     "text": [
      "0\n",
      "1\n",
      "2\n",
      "3\n",
      "4\n",
      "5\n",
      "6\n",
      "7\n",
      "8\n",
      "9\n"
     ]
    }
   ],
   "source": [
    "# range함수 : 반복문 안에서 사용하여 0 ~ 9 까지의 반복 [0,1,2,3,4,5,6,7,8,9] 와 동일.\n",
    "for r in range(10):\n",
    "    print(r)"
   ]
  },
  {
   "cell_type": "code",
   "execution_count": 12,
   "id": "c2bd7d9d-c05a-43bb-b49e-82a77ad06a39",
   "metadata": {},
   "outputs": [
    {
     "name": "stdout",
     "output_type": "stream",
     "text": [
      "0\n",
      "1\n",
      "4\n",
      "9\n",
      "16\n",
      "25\n",
      "36\n",
      "49\n",
      "64\n",
      "81\n"
     ]
    }
   ],
   "source": [
    "for r in range(10):\n",
    "    print(r*r)"
   ]
  },
  {
   "cell_type": "code",
   "execution_count": 22,
   "id": "86fd9e0d-27a3-4a1f-a7fb-1fb33d442519",
   "metadata": {},
   "outputs": [
    {
     "name": "stdout",
     "output_type": "stream",
     "text": [
      "1\n",
      "3\n",
      "6\n",
      "10\n",
      "15\n",
      "21\n",
      "28\n",
      "36\n",
      "45\n",
      "55\n",
      "누적합 = 55\n"
     ]
    }
   ],
   "source": [
    "# 누적합 구하기\n",
    "sum = 0\n",
    "for index in range(1,11):\n",
    "    sum = sum+index\n",
    "    print(sum)\n",
    "print(\"누적합 = %d\" %(sum))"
   ]
  },
  {
   "cell_type": "markdown",
   "id": "0d8ce255-97ef-4636-bf2a-5b6f36d5db6a",
   "metadata": {},
   "source": [
    "### while 반복문 형태\n",
    "```\n",
    "while 조건:\n",
    "    실행문 1\n",
    "```"
   ]
  },
  {
   "cell_type": "code",
   "execution_count": 26,
   "id": "ee584287-416f-4101-a5f6-a34548ad44cd",
   "metadata": {},
   "outputs": [
    {
     "name": "stdout",
     "output_type": "stream",
     "text": [
      "0\n",
      "1\n",
      "2\n",
      "3\n",
      "반복문 끝  i = 4 \n"
     ]
    }
   ],
   "source": [
    "i = 0\n",
    "while i<=3:\n",
    "\t\tprint(i)\n",
    "\t\ti = i+1\n",
    "\t\t\n",
    "print(\"반복문 끝  i = %d \"%(i))"
   ]
  },
  {
   "cell_type": "code",
   "execution_count": 32,
   "id": "ae0f3eb9-a42b-403c-85c2-e1a86f1c3fa3",
   "metadata": {},
   "outputs": [
    {
     "name": "stdin",
     "output_type": "stream",
     "text": [
      "what's your name ? hyemi\n"
     ]
    },
    {
     "name": "stdout",
     "output_type": "stream",
     "text": [
      "welcome hyemi\n"
     ]
    }
   ],
   "source": [
    "name = ''\n",
    "while name != 'hyemi':\n",
    "    name = input(\"what's your name ?\")\n",
    "    if name != 'hyemi' :\n",
    "        print(\"hi, %s where is hyemi?\"%(name))\n",
    "    else :\n",
    "        print(\"welcome %s\"%(name))"
   ]
  },
  {
   "cell_type": "code",
   "execution_count": 34,
   "id": "9863945e-9868-4887-935e-af2099d568a3",
   "metadata": {},
   "outputs": [],
   "source": [
    "#while 1 :\n",
    "#\tprint(\"지옥루프\")\n",
    "\t\n",
    "#\t1은 참이고 0은 거짓으로 보면된다."
   ]
  },
  {
   "cell_type": "code",
   "execution_count": null,
   "id": "13412d1a-e536-47ae-bfa4-ccddfeb79c65",
   "metadata": {},
   "outputs": [],
   "source": []
  }
 ],
 "metadata": {
  "kernelspec": {
   "display_name": "Python [conda env:base] *",
   "language": "python",
   "name": "conda-base-py"
  },
  "language_info": {
   "codemirror_mode": {
    "name": "ipython",
    "version": 3
   },
   "file_extension": ".py",
   "mimetype": "text/x-python",
   "name": "python",
   "nbconvert_exporter": "python",
   "pygments_lexer": "ipython3",
   "version": "3.12.7"
  }
 },
 "nbformat": 4,
 "nbformat_minor": 5
}
