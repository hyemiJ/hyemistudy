{
 "cells": [
  {
   "cell_type": "code",
   "execution_count": 1,
   "id": "3dc7bc61-a022-4bc7-9d95-4c746eed1dd1",
   "metadata": {},
   "outputs": [],
   "source": [
    "# 데이터  \n",
    "# 선언 , 초기화 : 가능\n",
    "# 추가 , 수정 , 삭제 : 불가\n",
    "# 출력 : 가능 : 변수명[인덱스번호]\n",
    "\n",
    "#선언\n",
    "# 변수명 = (데이터들)\n",
    "tuple1 = ()"
   ]
  },
  {
   "cell_type": "code",
   "execution_count": 3,
   "id": "9ac9e836-6c98-4705-ad29-77d1fc9621aa",
   "metadata": {},
   "outputs": [
    {
     "name": "stdout",
     "output_type": "stream",
     "text": [
      "<class 'tuple'>\n"
     ]
    }
   ],
   "source": [
    "#출력\n",
    "print(type(tuple1))"
   ]
  },
  {
   "cell_type": "code",
   "execution_count": 11,
   "id": "016e4b98-50c5-4f90-8c88-70469f96b569",
   "metadata": {},
   "outputs": [],
   "source": [
    "#선언 + 초기화\n",
    "tuple2 = (1,2,3)"
   ]
  },
  {
   "cell_type": "code",
   "execution_count": 13,
   "id": "b33aaebc-0616-4bf1-98b0-719e543709ef",
   "metadata": {},
   "outputs": [
    {
     "name": "stdout",
     "output_type": "stream",
     "text": [
      "(1, 2, 3)\n",
      "1\n"
     ]
    }
   ],
   "source": [
    "#출력\n",
    "print(tuple2)\n",
    "print(tuple2[0])"
   ]
  },
  {
   "cell_type": "code",
   "execution_count": 15,
   "id": "63267570-fc2c-49cc-8ce0-a4451c685a79",
   "metadata": {},
   "outputs": [],
   "source": [
    "def mul_return(a):\n",
    "\t\tb = a + 1\n",
    "\t\treturn a,b # 지역변수 b를 활용하고 있음."
   ]
  },
  {
   "cell_type": "code",
   "execution_count": 17,
   "id": "520f2cc4-2084-40a0-ae87-8b5c2e7d1e03",
   "metadata": {},
   "outputs": [
    {
     "data": {
      "text/plain": [
       "(1, 2)"
      ]
     },
     "execution_count": 17,
     "metadata": {},
     "output_type": "execute_result"
    }
   ],
   "source": [
    "mul_return(1) \n",
    "# tuple 변수인것처럼 결과값을 다루기 때문에 이러한 결과값이 가능하다."
   ]
  },
  {
   "cell_type": "code",
   "execution_count": 19,
   "id": "ff317238-a457-47ca-a88f-a323414e8a5d",
   "metadata": {},
   "outputs": [
    {
     "name": "stdout",
     "output_type": "stream",
     "text": [
      "(1, 2, 3, 4, 5, 6)\n"
     ]
    }
   ],
   "source": [
    "tuple3 = (1,2,3)\n",
    "tuple4 = (4,5,6)\n",
    "print(tuple3+tuple4)"
   ]
  },
  {
   "cell_type": "code",
   "execution_count": 21,
   "id": "d52ad91a-c60c-4f75-84d0-ebe22659b591",
   "metadata": {},
   "outputs": [
    {
     "name": "stdout",
     "output_type": "stream",
     "text": [
      "(4, 5, 6, 4, 5, 6, 4, 5, 6)\n"
     ]
    }
   ],
   "source": [
    "print(tuple4*3) # 실사용은 드물다."
   ]
  },
  {
   "cell_type": "code",
   "execution_count": 23,
   "id": "8c2effe0-17d0-456e-a87d-18a168190af9",
   "metadata": {},
   "outputs": [],
   "source": [
    "x = 1\n",
    "y = 2\n",
    "\n",
    "# 치환하는 방법으로 많이 활용\n",
    "#일반적인 언어에서 다른 임시변수를 활용하여 치환.\n",
    "#파이썬은 튜플을 활용"
   ]
  },
  {
   "cell_type": "code",
   "execution_count": 25,
   "id": "d391fda0-0b3d-492f-8682-2dc7dca492a0",
   "metadata": {},
   "outputs": [],
   "source": [
    "x, y = y , x # 프로그램이 튜플이라고 생각하고 대입하게 됨."
   ]
  },
  {
   "cell_type": "code",
   "execution_count": 27,
   "id": "a7909b41-40dc-4212-a8cb-a5020d452e10",
   "metadata": {},
   "outputs": [
    {
     "name": "stdout",
     "output_type": "stream",
     "text": [
      "2\n"
     ]
    }
   ],
   "source": [
    "print(x)"
   ]
  },
  {
   "cell_type": "code",
   "execution_count": 29,
   "id": "162dd666-7360-4dbb-9a78-04ba8d849d8b",
   "metadata": {},
   "outputs": [
    {
     "name": "stdout",
     "output_type": "stream",
     "text": [
      "1\n"
     ]
    }
   ],
   "source": [
    "print(y)"
   ]
  },
  {
   "cell_type": "code",
   "execution_count": 35,
   "id": "1c061c7d-ab92-4191-a21e-c7e1e95e487f",
   "metadata": {},
   "outputs": [
    {
     "name": "stdout",
     "output_type": "stream",
     "text": [
      "a = 3 \n",
      "b = 1 \n"
     ]
    }
   ],
   "source": [
    "# 함수를 통한 값을 할당하여 변수에 담아준다.\n",
    "\n",
    "def a_and_b(x,y):\n",
    "    a = x//y # 몫\n",
    "    b = x%y # 나머지\n",
    "    return a,b #(a,b) 라고 표기해도 상관 없음.\n",
    "\n",
    "a , b = a_and_b(10,3)\n",
    "print(\"a = %d \" %(a)) \n",
    "print(\"b = %d \" %(b)) "
   ]
  },
  {
   "cell_type": "code",
   "execution_count": 37,
   "id": "b10c0b40-14ab-4d41-a1eb-594608aaf31b",
   "metadata": {},
   "outputs": [
    {
     "name": "stdout",
     "output_type": "stream",
     "text": [
      "<class 'tuple'>\n"
     ]
    }
   ],
   "source": [
    "# 리스트와 튜플의 변환\n",
    "tuple3 = (1,2,3)\n",
    "print(type(tuple3))"
   ]
  },
  {
   "cell_type": "code",
   "execution_count": 39,
   "id": "bc023875-e590-4f91-adca-dab2cd5303ef",
   "metadata": {},
   "outputs": [
    {
     "data": {
      "text/plain": [
       "[1, 2, 3]"
      ]
     },
     "execution_count": 39,
     "metadata": {},
     "output_type": "execute_result"
    }
   ],
   "source": [
    "list(tuple3)"
   ]
  },
  {
   "cell_type": "code",
   "execution_count": 41,
   "id": "ccaf9bb2-7d76-4a71-b25d-3c018af5178d",
   "metadata": {},
   "outputs": [
    {
     "name": "stdout",
     "output_type": "stream",
     "text": [
      "<class 'tuple'>\n"
     ]
    }
   ],
   "source": [
    "print(type(tuple3))"
   ]
  },
  {
   "cell_type": "code",
   "execution_count": 45,
   "id": "ebe9d4be-1323-4820-b38f-e302bb7c7351",
   "metadata": {},
   "outputs": [
    {
     "name": "stdout",
     "output_type": "stream",
     "text": [
      "<class 'list'>\n"
     ]
    }
   ],
   "source": [
    "data_list = list(tuple3)\n",
    "\n",
    "print(type(data_list))"
   ]
  },
  {
   "cell_type": "code",
   "execution_count": 49,
   "id": "f7e80fc9-9b28-4ff2-b752-2420d724f137",
   "metadata": {},
   "outputs": [
    {
     "name": "stdout",
     "output_type": "stream",
     "text": [
      "<class 'tuple'>\n"
     ]
    }
   ],
   "source": [
    "data_tuple = tuple(data_list)\n",
    "\n",
    "print(type(data_tuple))"
   ]
  },
  {
   "cell_type": "code",
   "execution_count": null,
   "id": "34129c18-d350-490e-9820-5c783dd31855",
   "metadata": {},
   "outputs": [],
   "source": []
  }
 ],
 "metadata": {
  "kernelspec": {
   "display_name": "Python [conda env:base] *",
   "language": "python",
   "name": "conda-base-py"
  },
  "language_info": {
   "codemirror_mode": {
    "name": "ipython",
    "version": 3
   },
   "file_extension": ".py",
   "mimetype": "text/x-python",
   "name": "python",
   "nbconvert_exporter": "python",
   "pygments_lexer": "ipython3",
   "version": "3.12.7"
  }
 },
 "nbformat": 4,
 "nbformat_minor": 5
}
