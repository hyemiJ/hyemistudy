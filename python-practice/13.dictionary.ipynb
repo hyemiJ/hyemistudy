{
 "cells": [
  {
   "cell_type": "code",
   "execution_count": 1,
   "id": "f2979c73-5d4d-47d2-960d-ef0e966a6a42",
   "metadata": {},
   "outputs": [],
   "source": [
    "# 선언\n",
    "\n",
    "data = dict()\n",
    "data = ()"
   ]
  },
  {
   "cell_type": "code",
   "execution_count": 3,
   "id": "6cc8a64c-30d7-42d2-bda6-471ef6421e9c",
   "metadata": {},
   "outputs": [],
   "source": [
    "data = {'한국':'kr' , '일본':'jp'}"
   ]
  },
  {
   "cell_type": "code",
   "execution_count": 5,
   "id": "042e8943-a2de-4ffd-97a1-cdf724002d9a",
   "metadata": {},
   "outputs": [
    {
     "name": "stdout",
     "output_type": "stream",
     "text": [
      "{'한국': 'kr', '일본': 'jp'}\n"
     ]
    }
   ],
   "source": [
    "print(data)"
   ]
  },
  {
   "cell_type": "code",
   "execution_count": 7,
   "id": "17c5abd5-5a2f-4c6b-8f0b-db66e27440b4",
   "metadata": {},
   "outputs": [
    {
     "name": "stdout",
     "output_type": "stream",
     "text": [
      "kr\n"
     ]
    }
   ],
   "source": [
    "# 출력\n",
    "\n",
    "print(data['한국'])"
   ]
  },
  {
   "cell_type": "code",
   "execution_count": 9,
   "id": "05b861d9-4b8f-4697-9758-0b4b3ddaf9ab",
   "metadata": {},
   "outputs": [
    {
     "name": "stdout",
     "output_type": "stream",
     "text": [
      "KR\n"
     ]
    }
   ],
   "source": [
    "# 수정\n",
    "\n",
    "data['한국'] = 'KR'\n",
    "print(data['한국'])"
   ]
  },
  {
   "cell_type": "code",
   "execution_count": 11,
   "id": "007c82a3-1c84-44a4-b109-321592313751",
   "metadata": {},
   "outputs": [
    {
     "name": "stdout",
     "output_type": "stream",
     "text": [
      "{'한국': 'KR', '일본': 'jp', '미국': 'US'}\n"
     ]
    }
   ],
   "source": [
    "# 추가\n",
    "\n",
    "data['미국'] = 'US'\n",
    "print(data)"
   ]
  },
  {
   "cell_type": "code",
   "execution_count": 13,
   "id": "c896d8c1-a717-47ba-8a99-12f3d7ebd5bb",
   "metadata": {},
   "outputs": [
    {
     "name": "stdout",
     "output_type": "stream",
     "text": [
      "{'한국': 'KR', '미국': 'US'}\n"
     ]
    }
   ],
   "source": [
    "#삭제\n",
    "\n",
    "del data['일본']\n",
    "print(data)"
   ]
  },
  {
   "cell_type": "code",
   "execution_count": 29,
   "id": "7d3824e1-0300-448a-aa8c-e7158901b241",
   "metadata": {},
   "outputs": [
    {
     "name": "stdout",
     "output_type": "stream",
     "text": [
      "dict_keys(['한국', '미국'])\n"
     ]
    },
    {
     "data": {
      "text/plain": [
       "dict_keys"
      ]
     },
     "execution_count": 29,
     "metadata": {},
     "output_type": "execute_result"
    }
   ],
   "source": [
    "# 변수명.keys()\n",
    "\n",
    "print(data.keys()) "
   ]
  },
  {
   "cell_type": "code",
   "execution_count": 23,
   "id": "c47192a3-27a7-45f4-a931-70c6f9cc91d1",
   "metadata": {},
   "outputs": [
    {
     "name": "stdout",
     "output_type": "stream",
     "text": [
      "dict_values(['KR', 'US'])\n"
     ]
    }
   ],
   "source": [
    "#변수명.values()\n",
    "\n",
    "print(data.values()) "
   ]
  },
  {
   "cell_type": "code",
   "execution_count": 25,
   "id": "734f973c-1697-475c-9b22-6f44fabf8580",
   "metadata": {},
   "outputs": [
    {
     "name": "stdout",
     "output_type": "stream",
     "text": [
      "dict_items([('한국', 'KR'), ('미국', 'US')])\n"
     ]
    }
   ],
   "source": [
    "#변수명.items()\n",
    "\n",
    "print(data.items()) "
   ]
  },
  {
   "cell_type": "code",
   "execution_count": 31,
   "id": "f14e1b21-e6af-481f-a3d2-9e6b70cb0187",
   "metadata": {},
   "outputs": [
    {
     "name": "stdout",
     "output_type": "stream",
     "text": [
      "한국\n",
      "미국\n"
     ]
    }
   ],
   "source": [
    "# keys를 통한 핸들링\n",
    "\n",
    "for key in data.keys():\n",
    "    print(key)"
   ]
  },
  {
   "cell_type": "code",
   "execution_count": 33,
   "id": "25eee5cc-6f2d-4fbe-b85f-6a94a584b553",
   "metadata": {},
   "outputs": [
    {
     "name": "stdout",
     "output_type": "stream",
     "text": [
      "KR\n",
      "US\n"
     ]
    }
   ],
   "source": [
    "# values 통한 핸들링\n",
    "\n",
    "for value in data.values():\n",
    "    print(value)\n",
    "    "
   ]
  },
  {
   "cell_type": "code",
   "execution_count": 35,
   "id": "5e512120-60c9-48a7-a03b-14d864199814",
   "metadata": {},
   "outputs": [
    {
     "name": "stdout",
     "output_type": "stream",
     "text": [
      "('한국', 'KR')\n",
      "('미국', 'US')\n"
     ]
    }
   ],
   "source": [
    "# items 통한 핸들링\n",
    "\n",
    "for item in data.items():\n",
    "    print(item)\n",
    "    "
   ]
  },
  {
   "cell_type": "code",
   "execution_count": null,
   "id": "a0f4f747-4bde-4474-b4dc-ffee89948a43",
   "metadata": {},
   "outputs": [],
   "source": [
    "# keys를 통한 핸들링 **\n",
    "\n",
    "for key in data.keys():\n",
    "    print(key)"
   ]
  }
 ],
 "metadata": {
  "kernelspec": {
   "display_name": "Python [conda env:base] *",
   "language": "python",
   "name": "conda-base-py"
  },
  "language_info": {
   "codemirror_mode": {
    "name": "ipython",
    "version": 3
   },
   "file_extension": ".py",
   "mimetype": "text/x-python",
   "name": "python",
   "nbconvert_exporter": "python",
   "pygments_lexer": "ipython3",
   "version": "3.12.7"
  }
 },
 "nbformat": 4,
 "nbformat_minor": 5
}
