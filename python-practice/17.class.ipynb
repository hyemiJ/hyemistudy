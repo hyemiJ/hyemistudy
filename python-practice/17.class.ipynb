{
 "cells": [
  {
   "cell_type": "code",
   "execution_count": 54,
   "id": "e685e1dc-3e52-49f1-9506-c58e1df522e4",
   "metadata": {},
   "outputs": [],
   "source": [
    "class Qurd() : # 클래스의 이름은 대문자 .\n",
    "    \n",
    "    width = 0\n",
    "    heigth = 0\n",
    "    color = ''\n",
    "    name = 'Qurd'\n",
    "\n",
    "    #method는 소문자로 시작한다.\n",
    "    def qurd_name(self): #  self 인자가 없을때 넣어줘야 한다. \n",
    "        return self.name # 인자가 하나 이상 필요할 경우 , self는 그대로 두고 , 첫번째 인자부터 정의해주면 된다.\n",
    "    def argument_call(self, a , b):\n",
    "        print(a ,b)\n",
    "        return self.name"
   ]
  },
  {
   "cell_type": "code",
   "execution_count": 60,
   "id": "ec6a8607-7aab-4b40-b734-97e21060d6bd",
   "metadata": {},
   "outputs": [
    {
     "name": "stdout",
     "output_type": "stream",
     "text": [
      "<__main__.Qurd object at 0x000001ED71BBE540>\n",
      "<__main__.Qurd object at 0x000001ED71BBCE60>\n"
     ]
    }
   ],
   "source": [
    "quad1 = Qurd()\n",
    "print(quad1) \n",
    "# <__main__.Qurd object at 0x000001ED6F3317C0>\n",
    "qual2 = Qurd()\n",
    "print(qual2) \n",
    "# <__main__.Qurd object at 0x000001ED6F3525D0>"
   ]
  },
  {
   "cell_type": "code",
   "execution_count": 62,
   "id": "4953f5d7-3dbe-4742-962e-45975a29a38d",
   "metadata": {},
   "outputs": [
    {
     "name": "stdout",
     "output_type": "stream",
     "text": [
      "10 0\n"
     ]
    }
   ],
   "source": [
    "quad1.width = 10\n",
    "print(quad1.width,qual2.width)\n",
    "#10 0"
   ]
  },
  {
   "cell_type": "code",
   "execution_count": 64,
   "id": "693a1a30-e02f-4270-987f-e9bf2d4b7836",
   "metadata": {},
   "outputs": [
    {
     "name": "stdout",
     "output_type": "stream",
     "text": [
      "10 10 blue blue 사각형\n",
      "5 5 red red 사각형\n"
     ]
    }
   ],
   "source": [
    "# 속성값 변경\n",
    "quad1.width = 10\n",
    "quad1.heigth = 10\n",
    "quad1.color = 'blue'\n",
    "quad1.name = 'blue 사각형'\n",
    "\n",
    "qual2.width = 5\n",
    "qual2.heigth = 5\n",
    "qual2.color = 'red'\n",
    "qual2.name = 'red 사각형'\n",
    "\n",
    "print(quad1.width,quad1.heigth,quad1.color,quad1.name)\n",
    "print(qual2.width,qual2.heigth,qual2.color,qual2.name)"
   ]
  },
  {
   "cell_type": "code",
   "execution_count": 66,
   "id": "f17c48d2-000c-4d28-96c1-d13c2323cef0",
   "metadata": {},
   "outputs": [
    {
     "name": "stdout",
     "output_type": "stream",
     "text": [
      "blue 사각형\n",
      "red 사각형\n"
     ]
    }
   ],
   "source": [
    "#method 호출\n",
    "print(quad1.qurd_name())\n",
    "print(qual2.qurd_name())"
   ]
  },
  {
   "cell_type": "code",
   "execution_count": 68,
   "id": "2ae0d4df-c581-4e51-9454-d28e26dcd092",
   "metadata": {},
   "outputs": [
    {
     "name": "stdout",
     "output_type": "stream",
     "text": [
      "1 3\n",
      "blue 사각형\n"
     ]
    }
   ],
   "source": [
    "#인자를 가진 method 호출\n",
    "print (quad1.argument_call(1,3))"
   ]
  },
  {
   "cell_type": "code",
   "execution_count": 70,
   "id": "6d6b6ed7-a213-4894-bd8f-13f7c36b8d63",
   "metadata": {},
   "outputs": [
    {
     "name": "stdout",
     "output_type": "stream",
     "text": [
      "Hello, World!\n",
      "Hello, Alice!\n"
     ]
    }
   ],
   "source": [
    "# 메서드 인자의 활용\n",
    "class Example:\n",
    "    def greet(self, name=None):\n",
    "        if name:\n",
    "            print(f\"Hello, {name}!\")\n",
    "        else:\n",
    "            print(\"Hello, World!\")\n",
    "\n",
    "\n",
    "obj = Example()\n",
    "obj.greet()         # Hello, World!\n",
    "obj.greet(\"Alice\")  # Hello, Alice!"
   ]
  },
  {
   "cell_type": "code",
   "execution_count": 72,
   "id": "20b21f61-f13e-451a-8bb2-0ac8b56676af",
   "metadata": {},
   "outputs": [
    {
     "name": "stdout",
     "output_type": "stream",
     "text": [
      "6\n",
      "22\n"
     ]
    }
   ],
   "source": [
    "# 메서드 가변인자의 활용\n",
    "class Example:\n",
    "    def calculate(self, *args):\n",
    "        return sum(args)  # 모든 인자의 합을 반환\n",
    "\n",
    "\n",
    "obj = Example()\n",
    "print(obj.calculate(1, 2, 3))     # 6\n",
    "print(obj.calculate(4, 5, 6, 7))  # 22\n"
   ]
  },
  {
   "cell_type": "code",
   "execution_count": 76,
   "id": "8b46360c-1792-4335-87ca-60197ee5f416",
   "metadata": {},
   "outputs": [
    {
     "name": "stdout",
     "output_type": "stream",
     "text": [
      "Default processing\n",
      "Default processing\n",
      "Default processing\n"
     ]
    }
   ],
   "source": [
    "# 메서드 오버로딩화 singledispatch (import 필요)\n",
    "from functools import singledispatch\n",
    "\n",
    "class Example:\n",
    "    @singledispatch\n",
    "    def process(self, value):\n",
    "        print(\"Default processing\")\n",
    "\n",
    "    @process.register\n",
    "    def _(self, value: int):\n",
    "        print(f\"Processing an integer: {value}\")\n",
    "\n",
    "    @process.register\n",
    "    def _(self, value: str):\n",
    "        print(f\"Processing a string: {value}\")\n",
    "\n",
    "\n",
    "obj = Example()\n",
    "obj.process(10)      # Processing an integer: 10\n",
    "obj.process(\"Hello\") # Processing a string: Hello\n",
    "obj.process(3.14)    # Default processing\n"
   ]
  },
  {
   "cell_type": "code",
   "execution_count": null,
   "id": "516f9560-d254-460c-8348-20309eb43813",
   "metadata": {},
   "outputs": [],
   "source": []
  }
 ],
 "metadata": {
  "kernelspec": {
   "display_name": "Python [conda env:base] *",
   "language": "python",
   "name": "conda-base-py"
  },
  "language_info": {
   "codemirror_mode": {
    "name": "ipython",
    "version": 3
   },
   "file_extension": ".py",
   "mimetype": "text/x-python",
   "name": "python",
   "nbconvert_exporter": "python",
   "pygments_lexer": "ipython3",
   "version": "3.12.7"
  }
 },
 "nbformat": 4,
 "nbformat_minor": 5
}
