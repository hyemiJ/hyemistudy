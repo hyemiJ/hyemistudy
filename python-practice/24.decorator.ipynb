{
  "metadata": {
    "kernelspec": {
      "name": "python",
      "display_name": "Python (Pyodide)",
      "language": "python"
    },
    "language_info": {
      "codemirror_mode": {
        "name": "python",
        "version": 3
      },
      "file_extension": ".py",
      "mimetype": "text/x-python",
      "name": "python",
      "nbconvert_exporter": "python",
      "pygments_lexer": "ipython3",
      "version": "3.8"
    }
  },
  "nbformat_minor": 5,
  "nbformat": 4,
  "cells": [
    {
      "id": "f08a313b-a640-4229-8a72-f476e542a2ec",
      "cell_type": "markdown",
      "source": "#### <span style=\"color:skyblue\">Decorator</span>\n- 함수나 클래스의 정의를 가로채 그 기능을 확장하거나 감싸는 문법.\n- <span style=\"color:skyblue\">@</span> 을 사용한다.\n- 다중으로 사용할 경우 가장 가까운 데코레이터부터 적용된다.\n- 데코레이터는 함수 자체를 변수에 할당하거나, 다른 함수의 인자로 전달할 수 있는 파이썬의 함수프로그래밍의 장점을 활용하여 함수를 인자로 받아 새로운 동작 을 추가하는 형식.",
      "metadata": {}
    },
    {
      "id": "0f539d36-5e08-4b1a-8e2f-1cd63445c3dd",
      "cell_type": "code",
      "source": "# 기본 동작 원리\n\ndef decorator(fn):\n    def wapper():\n        print('hello!')\n        fn()\n    return wapper\n\ndef decorator2(fn):\n    def wapper(*arg):\n        print(\"hello\")\n        fn(*arg)\n    return wapper\n\ndef decorator3(fn):\n    def wapper(*arg):\n        fn(*arg)\n        print(\"multi_test end\")\n    return wapper\n\n@decorator\ndef greet():\n    print('world!!')\n\n@decorator2\ndef greet2(name):\n    print(name)",
      "metadata": {
        "trusted": true
      },
      "outputs": [],
      "execution_count": 19
    },
    {
      "id": "9c234729-7413-4859-97cf-8ebb7dd81a15",
      "cell_type": "code",
      "source": "greet2('sunny')",
      "metadata": {
        "trusted": true
      },
      "outputs": [
        {
          "name": "stdout",
          "output_type": "stream",
          "text": "hello\nsunny\n"
        }
      ],
      "execution_count": 20
    },
    {
      "id": "2d955ac3-14eb-4969-839c-2aeb67db906e",
      "cell_type": "code",
      "source": "greet()",
      "metadata": {
        "trusted": true
      },
      "outputs": [
        {
          "name": "stdout",
          "output_type": "stream",
          "text": "hello!\nworld!!\n"
        }
      ],
      "execution_count": 21
    },
    {
      "id": "fc4ad979-126b-444b-bf20-afe04e0d7f83",
      "cell_type": "code",
      "source": "@decorator3\n@decorator2\ndef multi_deco(name):\n    print('multi_test running')\n\nmulti_deco('sunny') # 호출 순서 :decorator3(decorator2(multi_deco))",
      "metadata": {
        "trusted": true
      },
      "outputs": [
        {
          "name": "stdout",
          "output_type": "stream",
          "text": "hello\nmulti_test running\nmulti_test end\n"
        }
      ],
      "execution_count": 22
    },
    {
      "id": "df24e111-4cb9-484d-beaa-38b40b781d5a",
      "cell_type": "markdown",
      "source": "flowchart TD\n    A[multi_deco 정의됨] --> B[@decorator2] --> C[wrapper2 반환]\n    C --> D[@decorator3] --> E[wrapper3 반환]\n\n    click A \"# multi_deco(name): print(name)\"\n    click B \"# decorator2(fn): wrapper(*args)\"\n    click D \"# decorator3(fn): wrapper(*args)\"",
      "metadata": {}
    },
    {
      "id": "639f04bb-387f-46e3-b1c6-5b047dba3bd8",
      "cell_type": "code",
      "source": "def class_deco(cls):\n    class deco(cls):\n        def __init__(self,*arg):\n            super().__init__()\n            print(\"후처리\",arg)\n    return deco\n\n@class_deco\nclass Base():\n    def __init__(self,*arg):\n        print(\"base_class\")\n\n",
      "metadata": {
        "trusted": true
      },
      "outputs": [],
      "execution_count": 26
    },
    {
      "id": "8ca1b126-5205-4b41-b26b-75be5fcd8ad2",
      "cell_type": "code",
      "source": "test = Base('hi')",
      "metadata": {
        "trusted": true
      },
      "outputs": [
        {
          "name": "stdout",
          "output_type": "stream",
          "text": "base_class\n후처리 ('hi',)\n"
        }
      ],
      "execution_count": 27
    },
    {
      "id": "213384fa-7245-4671-928a-c8a8de9b14a1",
      "cell_type": "code",
      "source": "",
      "metadata": {
        "trusted": true
      },
      "outputs": [],
      "execution_count": null
    }
  ]
}