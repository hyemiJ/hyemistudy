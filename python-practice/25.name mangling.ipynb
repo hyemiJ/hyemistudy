{
  "metadata": {
    "kernelspec": {
      "name": "python",
      "display_name": "Python (Pyodide)",
      "language": "python"
    },
    "language_info": {
      "codemirror_mode": {
        "name": "python",
        "version": 3
      },
      "file_extension": ".py",
      "mimetype": "text/x-python",
      "name": "python",
      "nbconvert_exporter": "python",
      "pygments_lexer": "ipython3",
      "version": "3.8"
    }
  },
  "nbformat_minor": 5,
  "nbformat": 4,
  "cells": [
    {
      "id": "594a36f3-5d77-4e8d-8a98-6a41564aceff",
      "cell_type": "markdown",
      "source": "#### <span style=\"skyblue\">Name Mangling</span>\n- 네임 맹글링은 파이썬에서 더블언더스코어'<span style=\"skyblue\">__</span>'로 시작하는 변수나 메서드의 이름을 내부적으로 변경하는 기능.\n- 부모 클래스의 속성을 보호하여 자식클래스에서 실수로 덮어쓰는 문제를 막을 수 있다.\n- __변수명 <span style=\"skyblue\">=></span>_클래스명__변수명\n- 네임 맹글링을 사용하는 의도는 클래스 내부의 전용 속성임을 표현함과, 서브클래스에서 이름 충돌을 방지하기 위해서이다.\n",
      "metadata": {}
    },
    {
      "id": "b8ff077e-6809-4d1b-b7a2-b5730f6e2b53",
      "cell_type": "code",
      "source": "class Papa():\n    def __init__(self,name,age):\n        self.__name = name\n        self.__age = age\n        print('Papa의 init')\n        \n    def get_age(self):\n        return self.__age\n\nclass Baby(Papa):\n    def __init__(self,name,age):\n        self.__name = name\n        self.__age = age\n    def get_age(self):\n        return self.__age\n",
      "metadata": {
        "trusted": true
      },
      "outputs": [],
      "execution_count": 5
    },
    {
      "id": "a2ab7481-48fc-4d3c-bc57-5a0ca5060f82",
      "cell_type": "code",
      "source": "baby = Baby('아기',6)",
      "metadata": {
        "trusted": true
      },
      "outputs": [],
      "execution_count": 6
    },
    {
      "id": "43476e68-9183-4c7e-81de-e9b8add751c5",
      "cell_type": "code",
      "source": "baby.get_age()",
      "metadata": {
        "trusted": true
      },
      "outputs": [
        {
          "execution_count": 8,
          "output_type": "execute_result",
          "data": {
            "text/plain": "6"
          },
          "metadata": {}
        }
      ],
      "execution_count": 8
    },
    {
      "id": "a55d84b7-a890-4eaf-8eb7-fc90b9252979",
      "cell_type": "code",
      "source": "print(dir(baby))",
      "metadata": {
        "trusted": true
      },
      "outputs": [
        {
          "name": "stdout",
          "output_type": "stream",
          "text": "['_Baby__age', '_Baby__name', '__class__', '__delattr__', '__dict__', '__dir__', '__doc__', '__eq__', '__format__', '__ge__', '__getattribute__', '__getstate__', '__gt__', '__hash__', '__init__', '__init_subclass__', '__le__', '__lt__', '__module__', '__ne__', '__new__', '__reduce__', '__reduce_ex__', '__repr__', '__setattr__', '__sizeof__', '__str__', '__subclasshook__', '__weakref__', 'get_age']\n"
        }
      ],
      "execution_count": 11
    },
    {
      "id": "b90712ce-a912-4e88-81d0-3bf9c20e13db",
      "cell_type": "code",
      "source": "baby.age",
      "metadata": {
        "trusted": true
      },
      "outputs": [
        {
          "ename": "<class 'AttributeError'>",
          "evalue": "'Baby' object has no attribute 'age'",
          "traceback": [
            "\u001b[0;31m---------------------------------------------------------------------------\u001b[0m",
            "\u001b[0;31mAttributeError\u001b[0m                            Traceback (most recent call last)",
            "Cell \u001b[0;32mIn[12], line 1\u001b[0m\n\u001b[0;32m----> 1\u001b[0m \u001b[43mbaby\u001b[49m\u001b[38;5;241;43m.\u001b[39;49m\u001b[43mage\u001b[49m\n",
            "\u001b[0;31mAttributeError\u001b[0m: 'Baby' object has no attribute 'age'"
          ],
          "output_type": "error"
        }
      ],
      "execution_count": 12
    },
    {
      "id": "aa9ac488-914d-49e3-b0b7-229668332bfb",
      "cell_type": "code",
      "source": "baby.__age",
      "metadata": {
        "trusted": true
      },
      "outputs": [
        {
          "ename": "<class 'AttributeError'>",
          "evalue": "'Baby' object has no attribute '__age'",
          "traceback": [
            "\u001b[0;31m---------------------------------------------------------------------------\u001b[0m",
            "\u001b[0;31mAttributeError\u001b[0m                            Traceback (most recent call last)",
            "Cell \u001b[0;32mIn[13], line 1\u001b[0m\n\u001b[0;32m----> 1\u001b[0m \u001b[43mbaby\u001b[49m\u001b[38;5;241;43m.\u001b[39;49m\u001b[43m__age\u001b[49m\n",
            "\u001b[0;31mAttributeError\u001b[0m: 'Baby' object has no attribute '__age'"
          ],
          "output_type": "error"
        }
      ],
      "execution_count": 13
    },
    {
      "id": "5f087760-1710-426d-b850-c7bbe753212e",
      "cell_type": "code",
      "source": "baby._Baby__age",
      "metadata": {
        "trusted": true
      },
      "outputs": [
        {
          "execution_count": 16,
          "output_type": "execute_result",
          "data": {
            "text/plain": "6"
          },
          "metadata": {}
        }
      ],
      "execution_count": 16
    },
    {
      "id": "2d8ceb11-fb8b-4029-9937-cc4431ec88e1",
      "cell_type": "code",
      "source": "class Parent:\n    def __init__(self):\n        self.__value = 42\n\nclass Child(Parent):\n    def __init__(self):\n        super().__init__()\n        self.__value = 100\n\nc = Child()\nprint(c._Parent__value)  # 42\nprint(c._Child__value)   # 100",
      "metadata": {
        "trusted": true
      },
      "outputs": [
        {
          "name": "stdout",
          "output_type": "stream",
          "text": "42\n100\n"
        }
      ],
      "execution_count": 17
    },
    {
      "id": "a5669986-b004-402b-a45f-c2f1794782e5",
      "cell_type": "code",
      "source": "",
      "metadata": {
        "trusted": true
      },
      "outputs": [],
      "execution_count": null
    }
  ]
}