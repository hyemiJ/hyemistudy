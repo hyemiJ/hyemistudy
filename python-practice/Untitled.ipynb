{
 "cells": [
  {
   "cell_type": "markdown",
   "id": "8b2c406e-614f-40aa-8815-810dda31e06a",
   "metadata": {},
   "source": [
    "#### 의종이 바보\n",
    "\n",
    "- 안녕\n",
    "  - 이렇게도 안녕?\n",
    "    "
   ]
  },
  {
   "cell_type": "code",
   "execution_count": 2,
   "id": "9f94996e-8c2d-46f2-917f-3dba223d9cd7",
   "metadata": {},
   "outputs": [
    {
     "data": {
      "text/plain": [
       "3"
      ]
     },
     "execution_count": 2,
     "metadata": {},
     "output_type": "execute_result"
    }
   ],
   "source": [
    "a = 1\n",
    "b = 2\n",
    "a+b"
   ]
  },
  {
   "cell_type": "code",
   "execution_count": 6,
   "id": "b4305345-9dd4-415d-99cd-a1ab6485cc4c",
   "metadata": {},
   "outputs": [],
   "source": [
    "def add (a , b) :\n",
    "    return a+b"
   ]
  },
  {
   "cell_type": "code",
   "execution_count": 8,
   "id": "8d9d9b70-6739-427c-abbb-cca0f0f1e6ab",
   "metadata": {},
   "outputs": [
    {
     "data": {
      "text/plain": [
       "5"
      ]
     },
     "execution_count": 8,
     "metadata": {},
     "output_type": "execute_result"
    }
   ],
   "source": [
    "add(1,4)"
   ]
  },
  {
   "cell_type": "code",
   "execution_count": null,
   "id": "e685e1dc-3e52-49f1-9506-c58e1df522e4",
   "metadata": {},
   "outputs": [],
   "source": []
  }
 ],
 "metadata": {
  "kernelspec": {
   "display_name": "Python [conda env:base] *",
   "language": "python",
   "name": "conda-base-py"
  },
  "language_info": {
   "codemirror_mode": {
    "name": "ipython",
    "version": 3
   },
   "file_extension": ".py",
   "mimetype": "text/x-python",
   "name": "python",
   "nbconvert_exporter": "python",
   "pygments_lexer": "ipython3",
   "version": "3.12.7"
  }
 },
 "nbformat": 4,
 "nbformat_minor": 5
}
