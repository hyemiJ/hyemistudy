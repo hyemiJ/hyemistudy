{
 "cells": [
  {
   "cell_type": "code",
   "execution_count": null,
   "id": "001958ca-0f7c-4b04-ae71-6fb482ca5566",
   "metadata": {},
   "outputs": [],
   "source": [
    "# 주석 사용\n",
    "# 데이터의 단위는 셀이다.\n",
    "a = 1\n",
    "p"
   ]
  }
 ],
 "metadata": {
  "kernelspec": {
   "display_name": "Python [conda env:base] *",
   "language": "python",
   "name": "conda-base-py"
  },
  "language_info": {
   "codemirror_mode": {
    "name": "ipython",
    "version": 3
   },
   "file_extension": ".py",
   "mimetype": "text/x-python",
   "name": "python",
   "nbconvert_exporter": "python",
   "pygments_lexer": "ipython3",
   "version": "3.12.7"
  }
 },
 "nbformat": 4,
 "nbformat_minor": 5
}
