{
 "cells": [
  {
   "cell_type": "code",
   "execution_count": 5,
   "id": "001958ca-0f7c-4b04-ae71-6fb482ca5566",
   "metadata": {},
   "outputs": [
    {
     "name": "stdout",
     "output_type": "stream",
     "text": [
      "hello\n"
     ]
    }
   ],
   "source": [
    "# 주석 사용\n",
    "# 데이터의 단위는 셀이다.\n",
    "a = 1\n",
    "print(\"hello\")\n",
    "# 실행은 shift + Enter\n",
    "# [숫자표기] 는 실행된 횟수로 보면 될것 같다."
   ]
  },
  {
   "cell_type": "code",
   "execution_count": 7,
   "id": "8eaa7d06-eb5d-4ad0-9226-bfde4b72ce4c",
   "metadata": {},
   "outputs": [
    {
     "name": "stdout",
     "output_type": "stream",
     "text": [
      "1\n"
     ]
    }
   ],
   "source": [
    "#실행은 파일 단위임으로 , 셀마다 나누어 실행해도 되고 , 전체를 실행해도 된다.\n",
    "#실행은 파일 단위 임으로 , 변수가 공유된다\n",
    "print(a)"
   ]
  },
  {
   "cell_type": "code",
   "execution_count": null,
   "id": "504244ca-556f-42c1-840c-355ab99b4c1d",
   "metadata": {
    "jp-MarkdownHeadingCollapsed": true
   },
   "outputs": [],
   "source": [
    "# markdown 이라는 것은 문서를 쓸 수 있기 떄문에 상단의 code -> markdown을 누른다면 문서로 인식된다\n",
    "## 두개\n",
    "# 한개\n",
    "- 이건 도트\n",
    "  - **별두개를 감싸면 강조**"
   ]
  }
 ],
 "metadata": {
  "kernelspec": {
   "display_name": "Python [conda env:base] *",
   "language": "python",
   "name": "conda-base-py"
  },
  "language_info": {
   "codemirror_mode": {
    "name": "ipython",
    "version": 3
   },
   "file_extension": ".py",
   "mimetype": "text/x-python",
   "name": "python",
   "nbconvert_exporter": "python",
   "pygments_lexer": "ipython3",
   "version": "3.12.7"
  }
 },
 "nbformat": 4,
 "nbformat_minor": 5
}
